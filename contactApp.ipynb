{
  "cells": [
    {
      "cell_type": "code",
      "execution_count": null,
      "metadata": {
        "id": "KNRLalQo4TEE"
      },
      "outputs": [],
      "source": [
        "class ContactDetails:\n",
        "  def __init__(self,contactDetailsId , contactType, contactDetail):\n",
        "    self.contactDetailsId = contactDetailsId\n",
        "    self.contactType = contactType\n",
        "    self.contactDetail = contactDetail \n",
        "  @staticmethod \n",
        "  def createContactDetails(contactDetailsId , contactType, contactDetail):\n",
        "    return Contacts(contactDetailsId , contactType, contactDetail)\n",
        "     \n"
      ]
    },
    {
      "cell_type": "code",
      "execution_count": null,
      "metadata": {
        "id": "zirnaenW4sHE"
      },
      "outputs": [],
      "source": [
        "\n",
        "class User:\n",
        "  def __init__(self, userId , fName , lName , isAdmin , isActive , contacts):\n",
        "    self.userId = userId\n",
        "    self.fName = fName\n",
        "    self.lName = lName \n",
        "    self.isAdmin = isAdmin\n",
        "    self.isActive = isActive\n",
        "    self.contacts = contacts\n",
        "\n",
        "  @staticmethod\n",
        "  def createAdmin(userId , fName , lName , contacts):\n",
        "    return User(userId , fName , lName , True , True , contacts)\n",
        "\n",
        "  def createStaff(self , userId , fName , lName , contacts):\n",
        "    if(self.isAdmin == True):\n",
        "      return User(userId , fName , lName , False , True , contacts)\n",
        "    else :\n",
        "      return \"You Dont Have Admin Access\"\n",
        "\n",
        "  def updateStaff(self , obj , name , value):\n",
        "    if(self.isAdmin == True):\n",
        "      setattr(obj , name , value)\n",
        "    else :\n",
        "      return \"You dont have the permission to Update\"\n",
        "\n",
        "  def readStaff(self , obj):\n",
        "    if(self.isAdmin == True):\n",
        "      return obj.userId + \" \" + obj.fName + \"_\" + obj.lName \n",
        "    else :\n",
        "      return \"You dont have admin access\"\n",
        "  \n",
        "  def deleteStaff(self , obj):\n",
        "    if(self.isAdmin == True):\n",
        "      obj.isActive = False\n",
        "    else :\n",
        "      return \"You dont have admin access\"\n",
        "\n",
        "  def createContact(self , contactId , fName , lName  , contactDetails):\n",
        "    contactObject = Contacts.createContact(contactId , fName , lName , contactDetailsId , contactType, contactDetail)\n",
        "    self.contacts.append(contactObject)\n",
        "\n",
        "  def readContact(self, index):\n",
        "    if not self.isActive:\n",
        "      print(\"The account has been deleted\")\n",
        "      return\n",
        "    contact = self.contacts[index]\n",
        "    print(contact.fName, contact.lName, contact.contactDetails)\n",
        "\n",
        "\n",
        "  def updateContact(self, index, propertyName, newValue):\n",
        "    if not self.isActive:\n",
        "      print(\"You are not active! You cannot update a contact.\")\n",
        "      return\n",
        "    setattr(contact, propertyName, newValue)\n",
        "    return \"The contact has been updated\"\n",
        "\n",
        "\n",
        "  def deleteContact(self, index):\n",
        "    if not self.isActive:\n",
        "      print(\"You are not active! You cannot delete a contact.\")\n",
        "      return\n",
        "    self.contacts.pop(index)\n",
        "\n",
        "\n",
        "  def createContactDetail(self, index, contactDetail):\n",
        "    if not self.isActive:\n",
        "      print(\"The account has been deleted\")\n",
        "      return\n",
        "    self.contacts[index].contactDetails.append(contactDetail)\n",
        "\n",
        "  def readContactDetail(self, contactIndex, detailIndex):\n",
        "    if not self.isActive:\n",
        "      print(\"The account has been deleted\")\n",
        "      return\n",
        "    detail = self.contacts[contactIndex].contactDetails[detailIndex]\n",
        "    print(detail.detailId, detail.detailType, detail.contactDetail)\n",
        "\n",
        "  def updateContactDetail(self, contactIndex, detailIndex, propertyName, newValue):\n",
        "    if not self.isActive:\n",
        "      print(\"The account has been deleted\")\n",
        "      return\n",
        "    detail = self.contacts[contactIndex].contactDetails[detailIndex]\n",
        "    setattr(detail, propertyName, newValue)\n",
        "\n",
        "  def deleteContactDetail(self, contactIndex, detailIndex):\n",
        "    if not self.isActive:\n",
        "      print(\"You are not active! You cannot delete a contact detail.\")\n",
        "      return\n",
        "    self.contacts[contactIndex].contactDetails.pop(detailIndex)\n",
        "\n",
        "        \n",
        "  \n"
      ]
    },
    {
      "cell_type": "code",
      "execution_count": null,
      "metadata": {
        "id": "LbwiD2wgs43Y"
      },
      "outputs": [],
      "source": [
        "\n",
        "class Contacts:\n",
        "  def __init__(self , contactId , fName , lName , isActive , contactDetails):\n",
        "    self.contactId = contactId \n",
        "    self.fName = fName\n",
        "    self.lName = lName\n",
        "    self.isActive = isActive\n",
        "    self.contactDetails = contactDetails\n",
        "  \n",
        "  @staticmethod\n",
        "  def createContact(contactId , fName , lName , contactDetailsId , contactType, contactDetail):\n",
        "    contactDetails = ContactDetails.createContactDetails(contactDetailsId , contactType, contactDetail)\n",
        "    return Contacts(contactId , fName , lName , contactDetails)\n",
        "\n",
        "\n",
        "\n",
        "    \n",
        "\n",
        "\n"
      ]
    },
    {
      "cell_type": "code",
      "execution_count": null,
      "metadata": {
        "id": "2SQ4AEdEs5g0"
      },
      "outputs": [],
      "source": [
        ""
      ]
    },
    {
      "cell_type": "code",
      "execution_count": null,
      "metadata": {
        "id": "m5rxIk9RQuZP"
      },
      "outputs": [],
      "source": [
        ""
      ]
    }
  ],
  "metadata": {
    "colab": {
      "collapsed_sections": [],
      "name": "oops2.ipynb",
      "provenance": []
    },
    "kernelspec": {
      "display_name": "Python 3",
      "name": "python3"
    },
    "language_info": {
      "name": "python"
    }
  },
  "nbformat": 4,
  "nbformat_minor": 0
}